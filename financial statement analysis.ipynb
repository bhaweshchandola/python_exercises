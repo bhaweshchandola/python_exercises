{
 "cells": [
  {
   "cell_type": "markdown",
   "metadata": {},
   "source": [
    "You have been supplied with two vectors of data: monthly revenue and monthly\n",
    "expenses for the financial year in question. Your task is to calculate the following\n",
    "financial metrics:\n",
    "- profit for each month\n",
    "- profit after tax for each month (the tax rate is 30%)\n",
    "- profit margin for each month - equals to profit after tax divided by revenue\n",
    "- good months - where the profit after tax was greater than the mean for the year\n",
    "- bad months - where the profit after tax was less than the mean for the year\n",
    "- the best month - where the profit after tax was max for the year\n",
    "- the worst month - where the profit after tax was min for the year"
   ]
  },
  {
   "cell_type": "code",
   "execution_count": 1,
   "metadata": {},
   "outputs": [],
   "source": [
    "#Data \n",
    "revenue = [14574.49, 7606.46, 8611.41, 9175.41, 8058.65, 8105.44, 11496.28, 9766.09, 10305.32, 14379.96, 10713.97, 15433.50]\n",
    "expenses = [12051.82, 5695.07, 12319.20, 12089.72, 8658.57, 840.20, 3285.73, 5821.12, 6976.93, 16618.61, 10054.37, 3803.96]"
   ]
  },
  {
   "cell_type": "code",
   "execution_count": 6,
   "metadata": {},
   "outputs": [
    {
     "data": {
      "text/plain": [
       "[2522.67,\n",
       " 1911.3900000000003,\n",
       " -3707.790000000001,\n",
       " -2914.3099999999995,\n",
       " -599.9200000000001,\n",
       " 7265.24,\n",
       " 8210.550000000001,\n",
       " 3944.9700000000003,\n",
       " 3328.3899999999994,\n",
       " -2238.6500000000015,\n",
       " 659.5999999999985,\n",
       " 11629.54]"
      ]
     },
     "execution_count": 6,
     "metadata": {},
     "output_type": "execute_result"
    }
   ],
   "source": [
    "profit = []\n",
    "for i in range(len(revenue)):\n",
    "    profit.append(revenue[i] - expenses[i])\n",
    "profit"
   ]
  },
  {
   "cell_type": "code",
   "execution_count": 7,
   "metadata": {},
   "outputs": [
    {
     "data": {
      "text/plain": [
       "[1765.869,\n",
       " 1337.9730000000002,\n",
       " -2595.4530000000004,\n",
       " -2040.0169999999996,\n",
       " -419.944,\n",
       " 5085.668,\n",
       " 5747.385,\n",
       " 2761.479,\n",
       " 2329.8729999999996,\n",
       " -1567.055000000001,\n",
       " 461.71999999999895,\n",
       " 8140.678]"
      ]
     },
     "execution_count": 7,
     "metadata": {},
     "output_type": "execute_result"
    }
   ],
   "source": [
    "profit_after_tax = []\n",
    "for x in profit:\n",
    "    profit_after_tax.append(0.7*x)\n",
    "profit_after_tax"
   ]
  },
  {
   "cell_type": "code",
   "execution_count": 8,
   "metadata": {},
   "outputs": [
    {
     "data": {
      "text/plain": [
       "[0.12116163241389578,\n",
       " 0.1758995643176984,\n",
       " -0.3013969837692086,\n",
       " -0.2223352416949215,\n",
       " -0.05211096151340486,\n",
       " 0.6274388558795081,\n",
       " 0.49993432658216397,\n",
       " 0.2827619856052934,\n",
       " 0.2260844884001661,\n",
       " -0.10897492065346503,\n",
       " 0.04309513653668985,\n",
       " 0.5274680403019406]"
      ]
     },
     "execution_count": 8,
     "metadata": {},
     "output_type": "execute_result"
    }
   ],
   "source": [
    "profit_margin = []\n",
    "for i in range(len(revenue)):\n",
    "    profit_margin.append(profit_after_tax[i]/revenue[i])\n",
    "profit_margin"
   ]
  },
  {
   "cell_type": "code",
   "execution_count": null,
   "metadata": {},
   "outputs": [],
   "source": []
  }
 ],
 "metadata": {
  "kernelspec": {
   "display_name": "Python 3",
   "language": "python",
   "name": "python3"
  },
  "language_info": {
   "codemirror_mode": {
    "name": "ipython",
    "version": 3
   },
   "file_extension": ".py",
   "mimetype": "text/x-python",
   "name": "python",
   "nbconvert_exporter": "python",
   "pygments_lexer": "ipython3",
   "version": "3.5.6"
  }
 },
 "nbformat": 4,
 "nbformat_minor": 1
}
